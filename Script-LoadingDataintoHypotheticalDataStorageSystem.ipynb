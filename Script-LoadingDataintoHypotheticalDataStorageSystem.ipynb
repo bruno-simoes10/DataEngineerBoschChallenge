{
 "cells": [
  {
   "cell_type": "code",
   "execution_count": null,
   "id": "7cac78da",
   "metadata": {},
   "outputs": [],
   "source": [
    "############################################### STEP 4 - Data loading #########################################\n",
    "\n",
    "from pyspark.sql import SparkSession\n",
    "\n",
    "# Initialize a PySpark session\n",
    "spark = SparkSession.builder.appName(\"DataLoading\").getOrCreate() # \"DataLoading\" name for the session\n",
    "\n",
    "# path to the data - CSV file -- File Transformed we want to move to the Delta Lake\n",
    "csv_file = \"VehicleFuelEconomyInfo_Transformed.csv\" #just an example\n",
    "\n",
    "# Define the path for the Databricks Delta Lake \n",
    "deltalake_path = \"/Deltalake/path/folders/etc..\"\n",
    "\n",
    "# Load the CSV data into a DataFrame with inferred schema\n",
    "df = spark.read.csv(csv_file, header=True)\n",
    "\n",
    "# Write the DataFrame to Databricks Delta Lake .. if there is no table it creaters one, otherwise it overwrites\n",
    "df.write.format(\"delta\").mode(\"overwrite\").save(deltalake_path)\n",
    "\n",
    "print(\"Data loading into Databricks Delta Lake completed with success\")"
   ]
  }
 ],
 "metadata": {
  "kernelspec": {
   "display_name": "Python 3 (ipykernel)",
   "language": "python",
   "name": "python3"
  },
  "language_info": {
   "codemirror_mode": {
    "name": "ipython",
    "version": 3
   },
   "file_extension": ".py",
   "mimetype": "text/x-python",
   "name": "python",
   "nbconvert_exporter": "python",
   "pygments_lexer": "ipython3",
   "version": "3.9.13"
  }
 },
 "nbformat": 4,
 "nbformat_minor": 5
}
